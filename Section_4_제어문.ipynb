{
  "nbformat": 4,
  "nbformat_minor": 0,
  "metadata": {
    "colab": {
      "provenance": [],
      "toc_visible": true,
      "authorship_tag": "ABX9TyMxWOTzs55UdVRjmrKw5KOj",
      "include_colab_link": true
    },
    "kernelspec": {
      "name": "python3",
      "display_name": "Python 3"
    },
    "language_info": {
      "name": "python"
    }
  },
  "cells": [
    {
      "cell_type": "markdown",
      "metadata": {
        "id": "view-in-github",
        "colab_type": "text"
      },
      "source": [
        "<a href=\"https://colab.research.google.com/github/sy-veronica/What_i_learned/blob/main/Section_4_%EC%A0%9C%EC%96%B4%EB%AC%B8.ipynb\" target=\"_parent\"><img src=\"https://colab.research.google.com/assets/colab-badge.svg\" alt=\"Open In Colab\"/></a>"
      ]
    },
    {
      "cell_type": "markdown",
      "source": [
        "# 4-1. 조건문 if"
      ],
      "metadata": {
        "id": "Y2EgPX6QwLg6"
      }
    },
    {
      "cell_type": "markdown",
      "source": [
        ">### (1) if문\n",
        "```python\n",
        "if  <조건 1> : \n",
        "    <실행 1>\n",
        "else : \n",
        "    <실행 2>\n",
        "```"
      ],
      "metadata": {
        "id": "1B-AwwkHwiVL"
      }
    },
    {
      "cell_type": "code",
      "source": [
        "# (1) if문\n",
        "score = int(input(\"점수를 기입하세요 : \"))\n",
        "\n",
        "if score >= 70 :\n",
        "    print('PASS')\n",
        "else :\n",
        "    print('FAIL')"
      ],
      "metadata": {
        "colab": {
          "base_uri": "https://localhost:8080/"
        },
        "id": "KacM9w4Ty7CE",
        "outputId": "fd094ecc-365a-41bf-b129-27b3b4336a3c"
      },
      "execution_count": 46,
      "outputs": [
        {
          "output_type": "stream",
          "name": "stdout",
          "text": [
            "점수를 기입하세요 : 90\n",
            "PASS\n"
          ]
        }
      ]
    },
    {
      "cell_type": "markdown",
      "source": [
        ">### (2) 중첩 if문\n",
        "```python\n",
        "if  <조건 1> : \n",
        "    if  <조건 2> : \n",
        "        <실행 1>\n",
        "    else :\n",
        "        <실행 2>\n",
        "else : \n",
        "    <실행 3>\n",
        "```"
      ],
      "metadata": {
        "id": "rhhwLTE8wwfH"
      }
    },
    {
      "cell_type": "code",
      "source": [
        "# (2) 중첩 if문\n",
        "assignment = False\n",
        "score = 90\n",
        "\n",
        "if score >= 60 :\n",
        "    if assignment :\n",
        "        print('A학점 입니다.')\n",
        "    else :\n",
        "        print('B학점 입니다.')\n",
        "else :\n",
        "    print('F학점 입니다.')"
      ],
      "metadata": {
        "colab": {
          "base_uri": "https://localhost:8080/"
        },
        "id": "D6tziP7Mzl_H",
        "outputId": "27006322-91cf-44c7-beef-8e9e7b972dc9"
      },
      "execution_count": 9,
      "outputs": [
        {
          "output_type": "stream",
          "name": "stdout",
          "text": [
            "B학점 입니다.\n"
          ]
        }
      ]
    },
    {
      "cell_type": "markdown",
      "source": [
        ">### (3) elif문\n",
        "```python\n",
        "if    <조건 1> : \n",
        "      <실행 1>\n",
        "elif  <조건 2> : \n",
        "      <실행 2>\n",
        "else :\n",
        "      <실행 3>\n",
        "```"
      ],
      "metadata": {
        "id": "FXlmTGvcwwmY"
      }
    },
    {
      "cell_type": "code",
      "source": [
        "# (3) elif문\n",
        "score = 55\n",
        "\n",
        "if score >= 90 :\n",
        "    print('A학점 입니다.')\n",
        "elif score >= 80:\n",
        "    print('B학점 입니다.')\n",
        "else :\n",
        "    print('F학점 입니다.')"
      ],
      "metadata": {
        "colab": {
          "base_uri": "https://localhost:8080/"
        },
        "id": "b2qOHzy91ad4",
        "outputId": "0f41c962-5101-4879-8dc8-ba468fe4ba53"
      },
      "execution_count": 11,
      "outputs": [
        {
          "output_type": "stream",
          "name": "stdout",
          "text": [
            "F학점 입니다.\n"
          ]
        }
      ]
    },
    {
      "cell_type": "markdown",
      "source": [
        "# 4-2. 반복문 for"
      ],
      "metadata": {
        "id": "WldQQlccwLjr"
      }
    },
    {
      "cell_type": "markdown",
      "source": [
        ">### (1) for문\n",
        "```python\n",
        "(1) for  <변수>  in  range(start, end, step)\n",
        "(2) for  <변수>  in  'string'\n",
        "(3) for  <변수>  in  [ list ]\n",
        "(4) for  <변수>  in  ( tuple )\n",
        "(5) for  <변수>  in  { dict }\n",
        "         <실행>\n",
        "```"
      ],
      "metadata": {
        "id": "38-fFF7uwi0P"
      }
    },
    {
      "cell_type": "markdown",
      "source": [
        ">##### 심화 : for문 & range() 를 이용하여 리스트에 원소 추가하기\n",
        "```python\n",
        "list_name = []*이탤릭체 텍스트*\n",
        "for  <변수>  in  range(20):\n",
        "    list_name.append(변수) \n",
        "```"
      ],
      "metadata": {
        "id": "MtKi1seHEBbg"
      }
    },
    {
      "cell_type": "code",
      "source": [
        "# (1-1) for문 & int_range(start, end, step)\n",
        "for i in range(10, 100, 30) :\n",
        "    print(i)"
      ],
      "metadata": {
        "id": "zOt5RwTy25S8"
      },
      "execution_count": null,
      "outputs": []
    },
    {
      "cell_type": "code",
      "source": [
        "# (1-1) 심화 : for문 & range를 활용하여 리스트 원소 추가하기\n",
        "numbers = []\n",
        "for i in range(10) :\n",
        "    numbers.append(i)"
      ],
      "metadata": {
        "id": "e-LmAq8t8rhc"
      },
      "execution_count": 45,
      "outputs": []
    },
    {
      "cell_type": "code",
      "source": [
        "# (1-2) for문 & string\n",
        "for i in '피카츄 라이츄 파이리' :\n",
        "    print(i)"
      ],
      "metadata": {
        "id": "TD6vCyVb25bn"
      },
      "execution_count": null,
      "outputs": []
    },
    {
      "cell_type": "code",
      "source": [
        "# (1-3) for문 & list\n",
        "for i in [1, 2, 3, 4, 5] :\n",
        "    print(i)"
      ],
      "metadata": {
        "id": "Sc_zkYBe25J8"
      },
      "execution_count": null,
      "outputs": []
    },
    {
      "cell_type": "code",
      "source": [
        "# (1-3) for문 & list\n",
        "for i in ['피카츄', '라이츄', '파이리', '꼬부기'] :\n",
        "    print(i)"
      ],
      "metadata": {
        "id": "HTvJRYhl4fSY"
      },
      "execution_count": null,
      "outputs": []
    },
    {
      "cell_type": "code",
      "source": [
        "# (1-4) for문 & tuple\n",
        "for i in ('버터플', '야도란', '피존투', '또가스') :\n",
        "    print(i)"
      ],
      "metadata": {
        "id": "RE0dQ7md4fZd"
      },
      "execution_count": null,
      "outputs": []
    },
    {
      "cell_type": "code",
      "source": [
        "# (1-5) for문 & dict (key값 반환)\n",
        "fruit_color = {\"사과\":\"red\", \"바나나\":\"yellow\", \"포도\":\"purple\"}\n",
        "\n",
        "for i in fruit_color : \n",
        "    print(i)"
      ],
      "metadata": {
        "id": "vbNbPh0t4fg2"
      },
      "execution_count": null,
      "outputs": []
    },
    {
      "cell_type": "code",
      "source": [
        "# (1-5) for문 & dict (value값 반환)\n",
        "for i in fruit_color.values() : \n",
        "    print(i)\n",
        "\n",
        "# 심화 : 언패킹\n",
        "for  fruit, color  in  fruit_color.items() :\n",
        "     print(color)"
      ],
      "metadata": {
        "id": "MvAIOma05H96"
      },
      "execution_count": null,
      "outputs": []
    },
    {
      "cell_type": "code",
      "source": [
        "# (1-5) for문 & dict ((key,value)값 반환)\n",
        "for i in fruit_color.items() : \n",
        "    print(i)"
      ],
      "metadata": {
        "id": "-C3duZKn5Ox7"
      },
      "execution_count": null,
      "outputs": []
    },
    {
      "cell_type": "markdown",
      "source": [
        ">### (2) 중첩 for문\n",
        "```python\n",
        "for group  in  big_group :  \n",
        "    for i  in  group :\n",
        "        <실행>\n",
        "```"
      ],
      "metadata": {
        "id": "h7pA35_GxCnw"
      }
    },
    {
      "cell_type": "code",
      "source": [
        "# (2) 중첩 for문\n",
        "group_1 = ['피카츄', '라이츄']\n",
        "group_2 = ['파이리', '꼬부기']\n",
        "group_3 = ['버터플', '야도란']\n",
        "group_4 = [group_1, group_2, group_3]\n",
        "\n",
        "for group  in  group_4 : \n",
        "    for i  in  group : \n",
        "        print(i,'♥')"
      ],
      "metadata": {
        "id": "rqeHvqp__5zN"
      },
      "execution_count": null,
      "outputs": []
    },
    {
      "cell_type": "markdown",
      "source": [
        "# 4-3. 반복문 while"
      ],
      "metadata": {
        "id": "NdIfAmlbwLnU"
      }
    },
    {
      "cell_type": "markdown",
      "source": [
        ">### (1) while문\n",
        "```python\n",
        "변수=\n",
        "while  <조건> : \n",
        "       <실행>\n",
        "       <변화식>\n",
        "```\n",
        "- while 의 조건문이 True일 경우  : 실행문 무한반복\n",
        "- while 의 조건문이 False일 경우 : 실행X\n",
        "- while문을 특정 횟수만큼만 실행하려면, 변수와 변화식을 통해 횟수를 지정"
      ],
      "metadata": {
        "id": "EzfCx_rKwjPz"
      }
    },
    {
      "cell_type": "code",
      "source": [
        "# (1) while문\n",
        "count = 0\n",
        "\n",
        "while count < 10 :\n",
        "      print('피카')\n",
        "      count += 1"
      ],
      "metadata": {
        "id": "Z4XZkCG2GLBy"
      },
      "execution_count": null,
      "outputs": []
    },
    {
      "cell_type": "code",
      "source": [
        "# (1) 심화 : 동일한 기능의 for문과 while문\n",
        "for i in range(5):\n",
        "    print(i)\n",
        "\n",
        "cnt=0\n",
        "while cnt < 5:\n",
        "      print(cnt)\n",
        "      cnt += 1"
      ],
      "metadata": {
        "id": "eY1Km9eyGLHv"
      },
      "execution_count": null,
      "outputs": []
    },
    {
      "cell_type": "markdown",
      "source": [
        "# 4-4. break, continue, pass"
      ],
      "metadata": {
        "id": "Ps9twNAjGvUc"
      }
    },
    {
      "cell_type": "markdown",
      "source": [
        ">### (1) 반복문을 멈추는 break"
      ],
      "metadata": {
        "id": "APt_7golI6BR"
      }
    },
    {
      "cell_type": "code",
      "source": [
        "# (1) while문 & if문 & break\n",
        "# STEP 1 : while문 - 반복환경 설정\n",
        "# STEP 2 : 변수설정 - 정답\n",
        "# STEP 3 : if문    - 정답판별 조건문 설정\n",
        "# STEP 4 : break   - 정답 실행문 뒤에 break 설정\n",
        "\n",
        "while True :\n",
        "    answer = input('꼬부기가 진화하면?')\n",
        "    if answer == '어니부기' :\n",
        "        print('정답!')\n",
        "        break\n",
        "    else :\n",
        "        print('땡! 다시 시도해보세요.')"
      ],
      "metadata": {
        "colab": {
          "base_uri": "https://localhost:8080/"
        },
        "id": "-YGDwIFjJm2k",
        "outputId": "af557176-c14b-4999-a899-ade1dc9a3d0e"
      },
      "execution_count": 53,
      "outputs": [
        {
          "output_type": "stream",
          "name": "stdout",
          "text": [
            "꼬부기가 진화하면?어니부기\n",
            "정답!\n"
          ]
        }
      ]
    },
    {
      "cell_type": "markdown",
      "source": [
        ">### (2) 반복문에서 특정 요소는 건너뛰는 continue"
      ],
      "metadata": {
        "id": "9OhN72gtJMBv"
      }
    },
    {
      "cell_type": "code",
      "source": [
        "# (2) for문 & if문 & continue\n",
        "# STEP 1 : for문    - 변수, 변수범위 설정\n",
        "# STEP 2 : if문     - 건너뛸 변수를 조건문으로 설정\n",
        "# STEP 3 : continue - 건너뛸 변수의 실행문\n",
        "# STEP 4 : else     - 그 외 변수의 실행문 설정정\n",
        "\n",
        "for i in range(10) :\n",
        "    if i == 5 :\n",
        "        continue\n",
        "    else :\n",
        "        print(i)"
      ],
      "metadata": {
        "id": "qdKVJJcKJTpE"
      },
      "execution_count": null,
      "outputs": []
    },
    {
      "cell_type": "markdown",
      "source": [
        ">### (3) 아무 실행문도 기입하지 않을 때 사용하는 pass"
      ],
      "metadata": {
        "id": "LDbbI73-JUF6"
      }
    },
    {
      "cell_type": "code",
      "source": [
        "# (3) for문 & if문 & pass\n",
        "# STEP 1 : for문    - 변수, 변수범위 설정\n",
        "# STEP 2 : if문     - 건너뛸 변수를 조건문으로 설정\n",
        "# STEP 3 : pass     - 건너뛸 변수의 실행문\n",
        "# STEP 4 : else     - 그 외 변수의 실행문 설정정\n",
        "\n",
        "for i in range(10) :\n",
        "    if i == 5 :\n",
        "        pass\n",
        "    else :\n",
        "        print(i)"
      ],
      "metadata": {
        "id": "w7h-lhD-M_u1"
      },
      "execution_count": null,
      "outputs": []
    },
    {
      "cell_type": "code",
      "source": [
        "while False :\n",
        "    pass"
      ],
      "metadata": {
        "id": "NN3XvxlNNREI"
      },
      "execution_count": 58,
      "outputs": []
    }
  ]
}