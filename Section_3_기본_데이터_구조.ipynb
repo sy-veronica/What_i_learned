{
  "nbformat": 4,
  "nbformat_minor": 0,
  "metadata": {
    "colab": {
      "provenance": [],
      "toc_visible": true,
      "authorship_tag": "ABX9TyOCKltkj1Guf8DoOSU5GFh8",
      "include_colab_link": true
    },
    "kernelspec": {
      "name": "python3",
      "display_name": "Python 3"
    },
    "language_info": {
      "name": "python"
    }
  },
  "cells": [
    {
      "cell_type": "markdown",
      "metadata": {
        "id": "view-in-github",
        "colab_type": "text"
      },
      "source": [
        "<a href=\"https://colab.research.google.com/github/sy-veronica/What_i_learned/blob/main/Section_3_%EA%B8%B0%EB%B3%B8_%EB%8D%B0%EC%9D%B4%ED%84%B0_%EA%B5%AC%EC%A1%B0.ipynb\" target=\"_parent\"><img src=\"https://colab.research.google.com/assets/colab-badge.svg\" alt=\"Open In Colab\"/></a>"
      ]
    },
    {
      "cell_type": "markdown",
      "source": [
        "# 3-0. 기본 데이터 구조 (요약정리)\n",
        "| No.| 데이터 구조 | 순서 | 수정 | 특징 |\n",
        "|:--:|:--:|:--:|:--:|:--:|\n",
        "| 1 | List | O | O | |\n",
        "| 2 | Tuple | O | X | 연산속도가 더욱 빠름 |\n",
        "| 3 | Dict | X | O | key는 unique, immutable |\n",
        "| 4 | Set | X | O | 중복된 요소가 없음 |"
      ],
      "metadata": {
        "id": "cLIoLRaKKhAL"
      }
    },
    {
      "cell_type": "markdown",
      "source": [
        "# 3-1. 리스트 List"
      ],
      "metadata": {
        "id": "4el0iF9SKCNC"
      }
    },
    {
      "cell_type": "markdown",
      "source": [
        ">### (1) 리스트 생성\n",
        "- 대괄호 [] 사용"
      ],
      "metadata": {
        "id": "DWsmXoGCMYoc"
      }
    },
    {
      "cell_type": "markdown",
      "source": [
        ">### (2) 함수\n",
        "- 원소 추가하기\n",
        "```python\n",
        "(1) .append(값)          : 끝에 값 추가\n",
        "(2) .insert(idx, 값)     : 원하는 위치에 값 추가\n",
        "```\n",
        "- 원소 삭제하기\n",
        "```python\n",
        "(1) .remove(값)\n",
        "(2) del list_name[idx]   : 리스트의 해당 위치/범위의 값 삭제\n",
        "```\n",
        "- 원소 길이 구하기 (갯수 세기)\n",
        "```python\n",
        "     len()\n",
        "```\n",
        "- 원소 평균 구하기 \n",
        "```python\n",
        "     sum() / len()\n",
        "```\n",
        "- 원소 정렬하기\n",
        "```python\n",
        "(1) .sort()             : 오름차순 정렬, 원본에 영향O\n",
        "(2) sorted(list_name)   : 오름차순 정렬, 원본에 영향X\n",
        "```"
      ],
      "metadata": {
        "id": "hpfyPvm7OGKp"
      }
    },
    {
      "cell_type": "markdown",
      "source": [
        ">### (3) 인덱싱, 슬라이싱, 스텝핑\n",
        "- 순서\n",
        "```python\n",
        "좌측(0)부터  /  우측(-1)부터\n",
        "```\n",
        "- 범위\n",
        "```python\n",
        "list_name [n:m:l] : n부터    m-1까지   l씩 건너뛰고\n",
        "list_name [:m]    : 처음부터 m-1까지\n",
        "list_name [n:]    : n부터    끝까지\n",
        "```"
      ],
      "metadata": {
        "id": "x-g1MIKtYAZC"
      }
    },
    {
      "cell_type": "markdown",
      "source": [
        "> ### (4) 소속연산자 in 활용\n",
        "- 특정 값 포함여부 확인하기\n",
        "```python\n",
        "sample_list = ['a', 'b', 'c', 'd']\n",
        "(1) 'b' in sample_list     : True\n",
        "(2) 'e' in sample_list     : False\n",
        "(3) 'e' not in sample_list : True\n",
        "```"
      ],
      "metadata": {
        "id": "6pHENF1WXRsr"
      }
    },
    {
      "cell_type": "markdown",
      "source": [
        "# 3-2. 튜플 Tuple"
      ],
      "metadata": {
        "id": "3etaJZXgKRQu"
      }
    },
    {
      "cell_type": "markdown",
      "source": [
        ">### (1) 튜플 생성\n",
        "- 소괄호() 사용"
      ],
      "metadata": {
        "id": "c546EwxlNb2t"
      }
    },
    {
      "cell_type": "markdown",
      "source": [
        ">### (2) 연산\n",
        "- 원소 추가, 수정, 삭제 불가\n",
        "- `+` : 튜플끼리 더하기\n",
        "- `*` : 튜플 반복하기"
      ],
      "metadata": {
        "id": "59YTLTq2bkJS"
      }
    },
    {
      "cell_type": "markdown",
      "source": [
        ">### (3) 인덱싱, 슬라이싱, 스텝핑\n",
        "- 순서\n",
        "```python\n",
        "좌측(0)부터  /  우측(-1)부터\n",
        "```\n",
        "- 범위\n",
        "```python\n",
        "tuple_name [n:m:l] : n부터    m-1까지   l씩 건너뛰고\n",
        "tuple_name [:m]    : 처음부터 m-1까지\n",
        "tuple_name [n:]    : n부터    끝까지\n",
        "```"
      ],
      "metadata": {
        "id": "8NkPkxLAa8QK"
      }
    },
    {
      "cell_type": "markdown",
      "source": [
        "> ### (4) 소속연산자 in 활용\n",
        "- 특정 값 포함여부 확인하기\n",
        "```python\n",
        "sample_tuple = ('a', 'b', 'c', 'd')\n",
        "(1) 'b' in sample_tuple     : True\n",
        "(2) 'e' in sample_tuple     : False\n",
        "(3) 'e' not in sample_tuple : True\n",
        "```"
      ],
      "metadata": {
        "id": "RyIaT9AvclBc"
      }
    },
    {
      "cell_type": "markdown",
      "source": [
        "> ### (5) Unpacking\n",
        "- 튜플의 원소 갯수만큼 변수를 할당하여 언패킹\n",
        "```python\n",
        "a, b, c, d, e = sample_tuple_2\n",
        "```"
      ],
      "metadata": {
        "id": "uEIxV_BpdTEw"
      }
    },
    {
      "cell_type": "markdown",
      "source": [
        "# 3-3. 딕셔너리 Dictionary"
      ],
      "metadata": {
        "id": "GELNZW89KWML"
      }
    },
    {
      "cell_type": "markdown",
      "source": [
        ">### (1) 딕셔너리 생성\n",
        "- 중괄호{} 사용"
      ],
      "metadata": {
        "id": "Gocofc2dNqyS"
      }
    },
    {
      "cell_type": "markdown",
      "source": [
        ">### (2) 함수\n",
        "- 원소 추가하기\n",
        "```python\n",
        "     dict['key'] = 'value'\n",
        "```\n",
        "- 원소 수정하기\n",
        "```python\n",
        "     dict['key'] = 'new_value'\n",
        "```\n",
        "- 원소 삭제하기\n",
        "```python\n",
        "del dict['key']\n",
        "```\n",
        "- 특정 원소 찾기\n",
        "```python\n",
        "(1) dict['key']   : 특정 key의 value를 반환\n",
        "(2) dict.keys()   : key값을 반환\n",
        "(3) dict.values() : value값을 반환\n",
        "(4) dict.items()  : (key,value)값을 반환\n",
        "```"
      ],
      "metadata": {
        "id": "9VvptXXqOZMc"
      }
    },
    {
      "cell_type": "markdown",
      "source": [
        "> ### (3) 소속연산자 in 활용\n",
        "- 특정 값 포함여부 확인하기\n",
        "```python\n",
        "sample_dict = {'사과':'red', '바나나':'yellow', '포도':'purple'}\n",
        "(1) '사과' in sample_list     : True\n",
        "(2) '수박' in sample_list     : False\n",
        "(3) '수박' not in sample_list : True\n",
        "```"
      ],
      "metadata": {
        "id": "zGSQGqCXo7rn"
      }
    },
    {
      "cell_type": "markdown",
      "source": [
        "# 3-4. 셋 Set"
      ],
      "metadata": {
        "id": "MnXupri4KWSi"
      }
    },
    {
      "cell_type": "markdown",
      "source": [
        ">### (1) 셋 생성\n",
        "- 중괄호{} 사용\n",
        "- 주의 : 비어있는 셋은 `set()`을 사용하여 생성해야 한다!"
      ],
      "metadata": {
        "id": "-6wBwkfBNvES"
      }
    },
    {
      "cell_type": "markdown",
      "source": [
        ">### (2) 함수\n",
        "- 원소 추가하기\n",
        "```python\n",
        "(1) .add(값)                   : 값 하나 추가\n",
        "(2) .update[값1, 값2, 값3...]) : 값 여러 개 추가\n",
        "```\n",
        "- 원소 삭제하기\n",
        "```python\n",
        "(1) .remove(값)   : 값 하나 삭제제\n",
        "(2) .clear()      : 전체 삭제\n",
        "```"
      ],
      "metadata": {
        "id": "bF9CAP1mOZ9C"
      }
    },
    {
      "cell_type": "markdown",
      "source": [
        ">### (3) 집합연산\n",
        "- 합집합\n",
        "```python\n",
        "     a|b\n",
        "     a.union(b)\n",
        "```\n",
        "- 교집합\n",
        "```python\n",
        "     a&b\n",
        "     a.intersection(b)\n",
        "```\n",
        "- 차집합\n",
        "```python\n",
        "     a-b\n",
        "     a.difference(b)\n",
        "```\n",
        "- 대칭차\n",
        "```python\n",
        "     a^b\n",
        "     a.symmetric_difference(b)\n",
        "```\n",
        "- 부분집합 여부 판단하기\n",
        "```python\n",
        "(1) a.issubset(b)    : a는 b의 부분집합인가?\n",
        "(2) a.issuperset(b)  : a는 b의 상위집합인가?\n",
        "(3) a.isdisjoint(b)  : a는 b의 서로소인가?\n",
        "```"
      ],
      "metadata": {
        "id": "sRjRuuiplnmr"
      }
    },
    {
      "cell_type": "markdown",
      "source": [
        "> ### (4) 소속연산자 in 활용\n",
        "- 특정 값 포함여부 확인하기\n",
        "```python\n",
        "sample_set = {'a', 'b', 'c', 'd'}\n",
        "(1) 'b' in sample_set     : True\n",
        "(2) 'e' in sample_set     : False\n",
        "(3) 'e' not in sample_set : True\n",
        "```"
      ],
      "metadata": {
        "id": "Fz1JxPwdoMsz"
      }
    }
  ]
}