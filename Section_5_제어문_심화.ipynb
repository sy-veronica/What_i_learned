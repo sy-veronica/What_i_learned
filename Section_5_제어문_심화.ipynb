{
  "nbformat": 4,
  "nbformat_minor": 0,
  "metadata": {
    "colab": {
      "provenance": [],
      "collapsed_sections": [
        "XtK90--3asL9",
        "Yhg6lxJChU41",
        "ifiWvfoukKAi",
        "Rn1cnFDd0Rqm",
        "xDNKGdF3IHSa"
      ],
      "authorship_tag": "ABX9TyM5qAWTnHMYHg+Q38Ciak6B",
      "include_colab_link": true
    },
    "kernelspec": {
      "name": "python3",
      "display_name": "Python 3"
    },
    "language_info": {
      "name": "python"
    }
  },
  "cells": [
    {
      "cell_type": "markdown",
      "metadata": {
        "id": "view-in-github",
        "colab_type": "text"
      },
      "source": [
        "<a href=\"https://colab.research.google.com/github/sy-veronica/What_i_learned/blob/main/Section_5_%EC%A0%9C%EC%96%B4%EB%AC%B8_%EC%8B%AC%ED%99%94.ipynb\" target=\"_parent\"><img src=\"https://colab.research.google.com/assets/colab-badge.svg\" alt=\"Open In Colab\"/></a>"
      ]
    },
    {
      "cell_type": "markdown",
      "source": [
        "# 5-1. 반복문 for (심화)"
      ],
      "metadata": {
        "id": "kNTXTCpnaNXm"
      }
    },
    {
      "cell_type": "markdown",
      "source": [
        ">### (1) Unpacking\n",
        "- 데이터 구조 속의 값들을 여러 개의 변수로 나누기\n",
        "- 변수 할당 제외하기 : `_`\n",
        "- 남은 값들을 하나의 변수에 할당하기 : `*`변수\n",
        "- for문 & dictionary unpacking\n",
        "```python\n",
        "dict_name = {}\n",
        "for k, v in dict_name.items():\n",
        "    print(v)\n",
        "```\n",
        "\n"
      ],
      "metadata": {
        "id": "XtK90--3asL9"
      }
    },
    {
      "cell_type": "code",
      "source": [
        "# (1-1) Unpacking : 변수 할당 제외하기 '_'\n",
        "\n",
        "pokemon = ['피카츄', '라이츄', '파이리', '꼬부기']\n",
        "a, b, c, _ = pokemon\n",
        "\n",
        "print(_)"
      ],
      "metadata": {
        "id": "ZNeQHclTeQ-4"
      },
      "execution_count": null,
      "outputs": []
    },
    {
      "cell_type": "code",
      "source": [
        "# (1-2) Unpacking : 남은 요소를 하나의 변수에 할당하기 '* 변수'\n",
        "\n",
        "pokemon = ['피카츄', '라이츄', '파이리', '꼬부기', '버터플', '야도란', '피존투', '또가스']\n",
        "a, b, *c = pokemon\n",
        "\n",
        "print(c)"
      ],
      "metadata": {
        "id": "VjpaU1HleRHC"
      },
      "execution_count": null,
      "outputs": []
    },
    {
      "cell_type": "code",
      "source": [
        "# (1-3) for문 & dictionary unpacking\n",
        "\n",
        "fruit_color = {'사과':'red', '바나나':'yellow', '포도':'purple'}\n",
        "\n",
        "# for item in fruit_color.items() :\n",
        "#     fruit, color = item\n",
        "#     print(color)\n",
        "\n",
        "for fruit, color in fruit_color.items():\n",
        "    print(color)"
      ],
      "metadata": {
        "id": "xfPjT87BbfIl"
      },
      "execution_count": null,
      "outputs": []
    },
    {
      "cell_type": "markdown",
      "source": [
        ">### (2) enumerate()\n",
        "- (인덱스, 값)을 반환"
      ],
      "metadata": {
        "id": "Yhg6lxJChU41"
      }
    },
    {
      "cell_type": "code",
      "source": [
        "# (2-1) enumerate()\n",
        "\n",
        "pokemon = ['피카츄', '라이츄', '파이리', '꼬부기']\n",
        "\n",
        "list(enumerate(pokemon))"
      ],
      "metadata": {
        "colab": {
          "base_uri": "https://localhost:8080/"
        },
        "id": "YlIQiSM5h2YM",
        "outputId": "8e8def34-7d75-4df3-a147-b5094869de40"
      },
      "execution_count": null,
      "outputs": [
        {
          "output_type": "execute_result",
          "data": {
            "text/plain": [
              "[(0, '피카츄'), (1, '라이츄'), (2, '파이리'), (3, '꼬부기')]"
            ]
          },
          "metadata": {},
          "execution_count": 11
        }
      ]
    },
    {
      "cell_type": "code",
      "source": [
        "# (2-2) for문 & enumerate()\n",
        "\n",
        "# 일반적인 for문을 사용하여 (인덱스, 값)쌍을 반환하기\n",
        "cnt=0\n",
        "for i in pokemon : \n",
        "    print(cnt, i)\n",
        "    cnt += 1\n",
        "\n",
        "# for문과 enumerate()를 사용하여 (인덱스, 값)쌍을 반환하기\n",
        "for i in enumerate(pokemon) :\n",
        "    print(i)\n",
        "\n",
        "# for문과 enumerate()를 사용하여 unpacking\n",
        "for i, p in enumerate(pokemon) :\n",
        "    print(p)"
      ],
      "metadata": {
        "colab": {
          "base_uri": "https://localhost:8080/"
        },
        "id": "g30_I0FbiY-Q",
        "outputId": "3a8da4bb-1d7d-473e-c1ff-543c79e7c17d"
      },
      "execution_count": null,
      "outputs": [
        {
          "output_type": "stream",
          "name": "stdout",
          "text": [
            "0 피카츄\n",
            "1 라이츄\n",
            "2 파이리\n",
            "3 꼬부기\n",
            "(0, '피카츄')\n",
            "(1, '라이츄')\n",
            "(2, '파이리')\n",
            "(3, '꼬부기')\n",
            "피카츄\n",
            "라이츄\n",
            "파이리\n",
            "꼬부기\n"
          ]
        }
      ]
    },
    {
      "cell_type": "markdown",
      "source": [
        ">### (3) zip()"
      ],
      "metadata": {
        "id": "ifiWvfoukKAi"
      }
    },
    {
      "cell_type": "code",
      "source": [
        "# (3-1) zip()을 이용하여 두 리스트를 하나의 페어로 생성\n",
        "pokemon = ['피카츄', '라이츄', '파이리', '꼬부기']\n",
        "hp= [400, 300, 200, 100]\n",
        "\n",
        "list(zip(pokemon, hp))"
      ],
      "metadata": {
        "colab": {
          "base_uri": "https://localhost:8080/"
        },
        "id": "Ep_KCj8tkj7J",
        "outputId": "fc5836fd-6997-4f66-bc32-e7813c8e73c8"
      },
      "execution_count": null,
      "outputs": [
        {
          "output_type": "execute_result",
          "data": {
            "text/plain": [
              "[('피카츄', 400), ('라이츄', 300), ('파이리', 200), ('꼬부기', 100)]"
            ]
          },
          "metadata": {},
          "execution_count": 21
        }
      ]
    },
    {
      "cell_type": "code",
      "source": [
        "# (3-2) for문 & zip()을 이용하여 언패킹\n",
        "for index in range(len(pokemon)) : \n",
        "    print(hp[index])"
      ],
      "metadata": {
        "colab": {
          "base_uri": "https://localhost:8080/"
        },
        "id": "O8k_GqVulDxH",
        "outputId": "34a9e66d-666d-4f3d-ec44-9fdeeb98e4a7"
      },
      "execution_count": null,
      "outputs": [
        {
          "output_type": "stream",
          "name": "stdout",
          "text": [
            "400\n",
            "300\n",
            "200\n",
            "100\n"
          ]
        }
      ]
    },
    {
      "cell_type": "code",
      "source": [
        "# (3-3) for문 & zip()을 이용하여 딕셔너리 생성\n",
        "pokemon_hp = {}                                    # 빈 딕셔너리 생성\n",
        "pokemon = ['피카츄', '라이츄', '파이리', '꼬부기']   # key값 리스트 생성\n",
        "hp= [400, 300, 200, 100]                           # value값 리스트 생성\n",
        "\n",
        "for k,v in zip(pokemon, hp) :                      # for문 활용하여 딕셔너리 값 추가\n",
        "    pokemon_hp[k] = v\n",
        "\n",
        "pokemon_hp, type(pokemon_hp)"
      ],
      "metadata": {
        "colab": {
          "base_uri": "https://localhost:8080/"
        },
        "id": "qDs_hBnImXFv",
        "outputId": "16224707-99be-4531-c0af-33f42b6a28d0"
      },
      "execution_count": null,
      "outputs": [
        {
          "output_type": "execute_result",
          "data": {
            "text/plain": [
              "({'피카츄': 400, '라이츄': 300, '파이리': 200, '꼬부기': 100}, dict)"
            ]
          },
          "metadata": {},
          "execution_count": 23
        }
      ]
    },
    {
      "cell_type": "markdown",
      "source": [
        "# 5-2. Comprehension (심화)"
      ],
      "metadata": {
        "id": "eaFzWzd8alI-"
      }
    },
    {
      "cell_type": "markdown",
      "source": [
        ">### (1) List Comprehension\n",
        "```python\n",
        "sample = [1, 2, 3, 4, 5]\n",
        "(1) double = []\n",
        "    for i in sample:\n",
        "        double.append(i*2)\n",
        "(2) double = [i*2  for i in sample]\n",
        "    double\n",
        "```"
      ],
      "metadata": {
        "id": "Rn1cnFDd0Rqm"
      }
    },
    {
      "cell_type": "code",
      "source": [
        "# (1-1) List Comprehension\n",
        "sample = [1, 2, 3, 4, 5]\n",
        "\n",
        "# List Comprehension\n",
        "add_1 = [i+1  for i in sample]\n",
        "\n",
        "# for문 활용\n",
        "add_1 = []\n",
        "for i in sample :\n",
        "    add_1.append(i+1)\n",
        "add_1"
      ],
      "metadata": {
        "colab": {
          "base_uri": "https://localhost:8080/"
        },
        "id": "oHe3IwrV1PrV",
        "outputId": "c303a5f9-26bc-4dbe-ecc5-dba1fad97835"
      },
      "execution_count": null,
      "outputs": [
        {
          "output_type": "execute_result",
          "data": {
            "text/plain": [
              "[2, 3, 4, 5, 6]"
            ]
          },
          "metadata": {},
          "execution_count": 26
        }
      ]
    },
    {
      "cell_type": "code",
      "source": [
        "# (1-2) List Comprehension\n",
        "x = [1, 2, 3, 4]\n",
        "y = [10, 10, 20, 30]\n",
        "\n",
        "# List Comprehension\n",
        "add_xy = [a+b  for a,b in zip(x,y)]\n",
        "add_xy\n",
        "\n",
        "# for문 활용\n",
        "add_xy = []\n",
        "for a,b in zip(x,y) :\n",
        "    add_xy.append(a+b)\n",
        "add_xy"
      ],
      "metadata": {
        "colab": {
          "base_uri": "https://localhost:8080/"
        },
        "id": "UbeH4aCV2kWR",
        "outputId": "f93fe6d5-7dbb-4259-8bb4-0a95917af9ff"
      },
      "execution_count": null,
      "outputs": [
        {
          "output_type": "execute_result",
          "data": {
            "text/plain": [
              "[11, 12, 23, 34]"
            ]
          },
          "metadata": {},
          "execution_count": 28
        }
      ]
    },
    {
      "cell_type": "code",
      "source": [
        "# (1-3) List Comprehension\n",
        "pokemon_1 = ['피카츄', '라이츄']\n",
        "pokemon_2 = ['파이리', '리자드']\n",
        "pokemon_3 = [pokemon_1, pokemon_2]\n",
        "\n",
        "# List Comprehension\n",
        "pokemon = [i  for group in pokemon_3 for i in group]\n",
        "pokemon\n",
        "\n",
        "# for문 활용\n",
        "pokemon = []\n",
        "for group in pokemon_3 :\n",
        "    for i in group :\n",
        "        pokemon.append(i)\n",
        "pokemon"
      ],
      "metadata": {
        "colab": {
          "base_uri": "https://localhost:8080/"
        },
        "id": "J1bVO-QZF3v1",
        "outputId": "7fb1b1fe-bf18-4056-f221-5ca98a2a1f92"
      },
      "execution_count": null,
      "outputs": [
        {
          "output_type": "execute_result",
          "data": {
            "text/plain": [
              "['피카츄', '라이츄', '파이리', '리자드']"
            ]
          },
          "metadata": {},
          "execution_count": 32
        }
      ]
    },
    {
      "cell_type": "code",
      "source": [
        "# (1-4) List Comprehension\n",
        "numbers = [1, 2, 3, 4, 5, 6, 7, 8, 9, 10]\n",
        "\n",
        "# List Comprehension\n",
        "even_numbers = [i  for i in numbers if i % 2 == 0]\n",
        "\n",
        "# for문 활용\n",
        "even_numbers = []\n",
        "for i in numbers :\n",
        "    if i % 2 == 0 :\n",
        "      even_numbers.append(i)\n",
        "even_numbers"
      ],
      "metadata": {
        "colab": {
          "base_uri": "https://localhost:8080/"
        },
        "id": "ptyrCZl7HHOB",
        "outputId": "3261e652-8b82-48ce-c85a-707fd4863045"
      },
      "execution_count": null,
      "outputs": [
        {
          "output_type": "execute_result",
          "data": {
            "text/plain": [
              "[2, 4, 6, 8, 10]"
            ]
          },
          "metadata": {},
          "execution_count": 34
        }
      ]
    },
    {
      "cell_type": "markdown",
      "source": [
        ">### (2) Dictionary Comprehension\n",
        "```python\n",
        "pokemon = ['피카츄', '라이츄', '파이리']\n",
        "hp = [100, 200, 150]\n",
        "(1) pokemon_hp = {}\n",
        "    for k,v in zip(pokemon, hp):\n",
        "        pokemon_hp[k]=v\n",
        "(2) pokemon_hp = {k:v  for k,v in zip(pokemon, hp)}\n",
        "    pokemon_hp\n",
        "```"
      ],
      "metadata": {
        "id": "xDNKGdF3IHSa"
      }
    },
    {
      "cell_type": "code",
      "source": [
        "pokemon = ['피카츄', '라이츄', '파이리']\n",
        "hp = [100, 200, 150]\n",
        "pokemon_hp = {}\n",
        "for k,v in zip(pokemon, hp):\n",
        "    pokemon_hp[k]=v\n",
        "pokemon_hp\n",
        "pokemon_hp = {k:v  for k,v in zip(pokemon, hp)}\n",
        "pokemon_hp"
      ],
      "metadata": {
        "colab": {
          "base_uri": "https://localhost:8080/"
        },
        "id": "tih0aBmSJUk0",
        "outputId": "720ac0a8-f301-46e4-e953-0343f28c299d"
      },
      "execution_count": null,
      "outputs": [
        {
          "output_type": "execute_result",
          "data": {
            "text/plain": [
              "{'피카츄': 100, '라이츄': 200, '파이리': 150}"
            ]
          },
          "metadata": {},
          "execution_count": 37
        }
      ]
    },
    {
      "cell_type": "code",
      "source": [
        "pokemon = ['피카츄', '라이츄', '파이리']\n",
        "hp = [100, 200, 150]\n",
        "pokemon_hp = {}\n",
        "for k,v in zip(pokemon, hp):\n",
        "    pokemon_hp[v]=k\n",
        "pokemon_hp\n",
        "pokemon_hp = {v:k  for k,v in zip(pokemon, hp)}\n",
        "pokemon_hp"
      ],
      "metadata": {
        "colab": {
          "base_uri": "https://localhost:8080/"
        },
        "id": "3YguezgpJyvm",
        "outputId": "3c0c13e5-6694-42e2-ddcd-58a39f2fb4e7"
      },
      "execution_count": null,
      "outputs": [
        {
          "output_type": "execute_result",
          "data": {
            "text/plain": [
              "{100: '피카츄', 200: '라이츄', 150: '파이리'}"
            ]
          },
          "metadata": {},
          "execution_count": 42
        }
      ]
    },
    {
      "cell_type": "markdown",
      "source": [
        "# 5-3. 예외처리 Try, Except (심화)"
      ],
      "metadata": {
        "id": "-xzN8-DCao-u"
      }
    },
    {
      "cell_type": "markdown",
      "source": [
        ">### (1) Try & Except\n",
        "```python\n",
        "try:\n",
        "    <실행문>\n",
        "    <에러가 없을 때 반환할 내용>\n",
        "except:\n",
        "    <에러가 있을 때 반환할 내용>\n",
        "```\n"
      ],
      "metadata": {
        "id": "FXfktM64ICKE"
      }
    },
    {
      "cell_type": "code",
      "source": [
        "# (1-1) try & except (개념)\n",
        "try:\n",
        "    print('실행을 시도합니다.')          \n",
        "    x = 1/0                            # 실행문\n",
        "    print('실행에 성공했습니다.')        # 에러가 없을 때 반환할 내용\n",
        "except:\n",
        "    print('에러가 발생한 실행입니다.')   # 에러가 있을 때 반환할 내용"
      ],
      "metadata": {
        "colab": {
          "base_uri": "https://localhost:8080/"
        },
        "id": "0wcqOEgSIAXu",
        "outputId": "f744bf09-6859-43c5-bd97-38eb0e4b2105"
      },
      "execution_count": 2,
      "outputs": [
        {
          "output_type": "stream",
          "name": "stdout",
          "text": [
            "실행을 시도합니다.\n",
            "에러가 발생한 실행입니다.\n"
          ]
        }
      ]
    },
    {
      "cell_type": "code",
      "source": [
        "# (1-2) try & except (특정 에러 예외 처리하기)\n",
        "try:\n",
        "    print('실행을 시도합니다.')          \n",
        "    x = 1/0                            # 실행문\n",
        "    print('실행에 성공했습니다.')        # 에러가 없을 때 반환할 내용\n",
        "except ZeroDivisionError:              # 특정 에러(ZeroDivisionError)를 명시\n",
        "    x = 1E100                          # 특정 에러(ZeroDivisionError)에 반환할 내용\n",
        "    print(x)                           # 기타 에러가 있을 때 반환할 내용"
      ],
      "metadata": {
        "colab": {
          "base_uri": "https://localhost:8080/"
        },
        "id": "cyJhDTWsNUme",
        "outputId": "011cc722-be9d-482b-d6db-2fa6c721d95c"
      },
      "execution_count": 4,
      "outputs": [
        {
          "output_type": "stream",
          "name": "stdout",
          "text": [
            "실행을 시도합니다.\n",
            "1e+100\n"
          ]
        }
      ]
    },
    {
      "cell_type": "code",
      "source": [
        "# (1-3) 에러 메세지 참조하기\n",
        "try:\n",
        "    x = 1/0                           # 실행문\n",
        "except Exception as err:              # 모든 에러(Exception)을 err라는 변수로 지정\n",
        "    print(type(err), err)             # 발생한 에러의 타입과 발생 이유를 반환"
      ],
      "metadata": {
        "colab": {
          "base_uri": "https://localhost:8080/"
        },
        "id": "GXU8qwUKMglm",
        "outputId": "54a924c0-e27a-4a25-c3e1-b2bbf09f64bf"
      },
      "execution_count": 5,
      "outputs": [
        {
          "output_type": "stream",
          "name": "stdout",
          "text": [
            "<class 'ZeroDivisionError'> division by zero\n"
          ]
        }
      ]
    },
    {
      "cell_type": "markdown",
      "source": [
        ">### (2) try & except 연습문제\n",
        "\n",
        "* Step 1. `sample = [1, 2, 3, 0, 5, '2']` 리스트에 있는 각각의 원소들로 2를 나누었을 때 결과를 `div_result` 리스트에 저장하세요. 나누기 연산을 할 수 없는 경우에는, None을 대신 저장하세요.\n",
        "\n",
        "* Step 2. 나누기 연산이 실패할 때 어떤 원소에서 실패했는지, 실패한 원소의 인덱스 값은 무엇이었는지, 그리고 실패한 원인이 무엇인지 출력해주세요.\n",
        "\n"
      ],
      "metadata": {
        "id": "qBrUPC3QPAV8"
      }
    },
    {
      "cell_type": "code",
      "source": [
        "# STEP 1\n",
        "sample = [1, 2, 3, 0, 5, '2']\n",
        "div_result = []\n",
        "\n",
        "for i in sample:\n",
        "    try:\n",
        "        div_result.append(2/i)\n",
        "    except:\n",
        "        div_result.append('None')\n",
        "div_result"
      ],
      "metadata": {
        "colab": {
          "base_uri": "https://localhost:8080/"
        },
        "id": "j9v8_syxPAvz",
        "outputId": "3e4b5cad-aae3-4248-b2ee-f4c8ab531454"
      },
      "execution_count": 11,
      "outputs": [
        {
          "output_type": "execute_result",
          "data": {
            "text/plain": [
              "[2.0, 1.0, 0.6666666666666666, 'None', 0.4, 'None']"
            ]
          },
          "metadata": {},
          "execution_count": 11
        }
      ]
    },
    {
      "cell_type": "code",
      "source": [
        "# STEP 2\n",
        "sample = [1, 2, 3, 0, 5, '2']\n",
        "div_result = []\n",
        "\n",
        "for idx, i in enumerate(sample):\n",
        "    try:\n",
        "        div_result.append(2/i)\n",
        "    except Exception as err:\n",
        "        print(f'index:{idx}  value:{i}  fail:{type(err)}, {err}')"
      ],
      "metadata": {
        "colab": {
          "base_uri": "https://localhost:8080/"
        },
        "id": "MeRBDIHUQ5UW",
        "outputId": "e42da25d-b34c-45de-a44d-c22dd4cb1580"
      },
      "execution_count": 14,
      "outputs": [
        {
          "output_type": "stream",
          "name": "stdout",
          "text": [
            "index:3  value:0  fail:<class 'ZeroDivisionError'>, division by zero\n",
            "index:5  value:2  fail:<class 'TypeError'>, unsupported operand type(s) for /: 'int' and 'str'\n"
          ]
        }
      ]
    },
    {
      "cell_type": "markdown",
      "source": [
        "# 5-4. 에러 작성하기 Raise (심화)\n",
        "```python\n",
        "x = int(input('5 이상의 정수를 입력하세요.'))\n",
        "\n",
        "if x < 5:\n",
        "    raise ValueError('지금 입력한 숫자는 5 미만입니다.')\n",
        "```"
      ],
      "metadata": {
        "id": "14oEuUfwaqjN"
      }
    },
    {
      "cell_type": "code",
      "source": [
        "x = int(input('5 이상의 정수를 입력하세요.'))\n",
        "\n",
        "if x < 5:\n",
        "    raise ValueError('지금 입력한 숫자는 5 미만입니다.')"
      ],
      "metadata": {
        "id": "mHsceZDwSuPo"
      },
      "execution_count": null,
      "outputs": []
    }
  ]
}