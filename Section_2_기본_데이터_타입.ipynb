{
  "nbformat": 4,
  "nbformat_minor": 0,
  "metadata": {
    "colab": {
      "provenance": [],
      "toc_visible": true,
      "authorship_tag": "ABX9TyPtDLfU35xtaBeBkcHbUjm0",
      "include_colab_link": true
    },
    "kernelspec": {
      "name": "python3",
      "display_name": "Python 3"
    },
    "language_info": {
      "name": "python"
    }
  },
  "cells": [
    {
      "cell_type": "markdown",
      "metadata": {
        "id": "view-in-github",
        "colab_type": "text"
      },
      "source": [
        "<a href=\"https://colab.research.google.com/github/sy-veronica/What_i_learned/blob/main/Section_2_%EA%B8%B0%EB%B3%B8_%EB%8D%B0%EC%9D%B4%ED%84%B0_%ED%83%80%EC%9E%85.ipynb\" target=\"_parent\"><img src=\"https://colab.research.google.com/assets/colab-badge.svg\" alt=\"Open In Colab\"/></a>"
      ]
    },
    {
      "cell_type": "markdown",
      "source": [
        "# 2-1. 숫자형 Numbers"
      ],
      "metadata": {
        "id": "mdELU-eAe0_y"
      }
    },
    {
      "cell_type": "markdown",
      "source": [
        ">### (0) 종류\n",
        "- 정수형 integer\n",
        "- 실수형 float"
      ],
      "metadata": {
        "id": "XSiBQhqaff4S"
      }
    },
    {
      "cell_type": "markdown",
      "source": [
        ">### (1) 표기 : Scientific Notation\n",
        "- 매우 큰 수 / 매우 작은 수를 표현할 때 사용\n",
        "```python\n",
        "3E+4 (30,000)\n",
        "2E-4 (0.0002)\n",
        "```"
      ],
      "metadata": {
        "id": "KDYn76pFfpp4"
      }
    },
    {
      "cell_type": "markdown",
      "source": [
        ">### (2) 연산\n",
        "- 산술연산"
      ],
      "metadata": {
        "id": "eY7V8QjGfy-M"
      }
    },
    {
      "cell_type": "markdown",
      "source": [
        "# 2-2. 문자형 Strings"
      ],
      "metadata": {
        "id": "zzMf0Coye1E4"
      }
    },
    {
      "cell_type": "markdown",
      "source": [
        ">### (1) 표기\n",
        "- 일반\n",
        "```python\n",
        "'Hello, World!'\n",
        "```\n",
        "- 따옴표가 포함된 문자열\n",
        "```python\n",
        "\"I'm student.\"\n",
        "```\n",
        "- 여러 줄의 문자열\n",
        "```python\n",
        "\"\"\"\n",
        "피카츄\n",
        "라이츄\n",
        "파이리\n",
        "\"\"\"\n",
        "```"
      ],
      "metadata": {
        "id": "I3XCIUQpgnRW"
      }
    },
    {
      "cell_type": "markdown",
      "source": [
        ">#### 심화 : f.string (format string)\n",
        "- 변수를 넣은 문자열을 작성\n",
        "```python\n",
        " f\"문자열 {변수) 문자열\"\n",
        "```"
      ],
      "metadata": {
        "id": "4duiHPUjxKad"
      }
    },
    {
      "cell_type": "code",
      "source": [
        "x=2\n",
        "y=2\n",
        "f\"{x}더하기 {y}는 {x+y}입니다.\""
      ],
      "metadata": {
        "id": "N6ius4fLzNF7",
        "colab": {
          "base_uri": "https://localhost:8080/",
          "height": 35
        },
        "outputId": "0789170c-cc83-47fd-a3d7-355ba5c07c7e"
      },
      "execution_count": 1,
      "outputs": [
        {
          "output_type": "execute_result",
          "data": {
            "text/plain": [
              "'2더하기 2는 4입니다.'"
            ],
            "application/vnd.google.colaboratory.intrinsic+json": {
              "type": "string"
            }
          },
          "metadata": {},
          "execution_count": 1
        }
      ]
    },
    {
      "cell_type": "code",
      "source": [
        "name = 'Datarian'\n",
        "f\"제 이름은 {name}이고 {len(name)}글자이며 대문자로 표현하면 {name.upper()}입니다.\""
      ],
      "metadata": {
        "id": "71AAx7q4yu1P",
        "colab": {
          "base_uri": "https://localhost:8080/",
          "height": 35
        },
        "outputId": "2cacc5ab-50a6-41d4-c601-4a316cef7324"
      },
      "execution_count": 2,
      "outputs": [
        {
          "output_type": "execute_result",
          "data": {
            "text/plain": [
              "'제 이름은 Datarian이고 8글자이며 대문자로 표현하면 DATARIAN입니다.'"
            ],
            "application/vnd.google.colaboratory.intrinsic+json": {
              "type": "string"
            }
          },
          "metadata": {},
          "execution_count": 2
        }
      ]
    },
    {
      "cell_type": "markdown",
      "source": [
        ">### (2) 연산\n",
        "- `+` : 문자열 합치기\n",
        "- `*` : 문자열 반복하기"
      ],
      "metadata": {
        "id": "lNPvT7FYhV7G"
      }
    },
    {
      "cell_type": "markdown",
      "source": [
        ">### (3) 인덱싱, 슬라이싱\n",
        "- 순서\n",
        "```python\n",
        "좌측(0)부터  /  우측(-1)부터\n",
        "```\n",
        "- 범위\n",
        "```python\n",
        "string [n:m] : n부터    m-1까지\n",
        "string [:m]  : 처음부터 m-1까지\n",
        "string [n:]  : n부터   끝까지\n",
        "```"
      ],
      "metadata": {
        "id": "nJZ49urohVyh"
      }
    },
    {
      "cell_type": "markdown",
      "source": [
        ">### (4) 함수\n",
        "- 내장함수\n",
        "```python\n",
        "(1) len(string)      : 문자열의 길이 확인\n",
        "```\n",
        "- 메소드함수\n",
        "```python\n",
        "(1) string.find()    : 특정 문자의 위치 찾기\n",
        "(2) string.replace() : 일부 대치하기\n",
        "(3) string.split()   : 특정 문자를 기준으로 나누기\n",
        "(4) string.strip()   : 앞뒤 공백 제거\n",
        "(5) string.upper()   : 대문자로 변환\n",
        "(6) string.lower()   : 소문자로 변환\n",
        "```"
      ],
      "metadata": {
        "id": "prr2bypohoDH"
      }
    },
    {
      "cell_type": "markdown",
      "source": [
        "# 2-3. 불리언 Boolean"
      ],
      "metadata": {
        "id": "Si3N5P9pe1Lv"
      }
    },
    {
      "cell_type": "markdown",
      "source": [
        ">### (1) 표기\n",
        "- True (1)\n",
        "- False (0) "
      ],
      "metadata": {
        "id": "kS8GnDArqQYa"
      }
    },
    {
      "cell_type": "markdown",
      "source": [
        ">### (2) 연산\n",
        "```python\n",
        "True + True = 2\n",
        "True + False = 1\n",
        "False + False = 0\n",
        "```"
      ],
      "metadata": {
        "id": "DQHbwICLqThN"
      }
    },
    {
      "cell_type": "markdown",
      "source": [
        ">### (3) 형 변환\n",
        "- boolean → 숫자형 / 문자형\n",
        "```python\n",
        "int(False)   : 0\n",
        "float(True)  : 1.0\n",
        "str(False)   : 'False'\n",
        "```\n",
        "- 숫자형 / 문자형 / 리스트 → boolean\n",
        "- 0 또는 None 일 경우 False, 그 외에는 값이 있다면 True\n",
        "```python\n",
        "bool(0)         : False\n",
        "bool(1.5)       : True\n",
        "bool(None)      : False\n",
        "bool(string)    : True\n",
        "bool([1,2,3,4]) : True\n",
        "```"
      ],
      "metadata": {
        "id": "sF_bx1aoq-ah"
      }
    },
    {
      "cell_type": "markdown",
      "source": [
        "# 2-4. 값 없음 None"
      ],
      "metadata": {
        "id": "jVCgtcEFfT_D"
      }
    }
  ]
}