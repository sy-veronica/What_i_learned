{
  "nbformat": 4,
  "nbformat_minor": 0,
  "metadata": {
    "colab": {
      "provenance": [],
      "toc_visible": true,
      "authorship_tag": "ABX9TyOvXOFnl/GO/RCNwNUnhb7b",
      "include_colab_link": true
    },
    "kernelspec": {
      "name": "python3",
      "display_name": "Python 3"
    },
    "language_info": {
      "name": "python"
    }
  },
  "cells": [
    {
      "cell_type": "markdown",
      "metadata": {
        "id": "view-in-github",
        "colab_type": "text"
      },
      "source": [
        "<a href=\"https://colab.research.google.com/github/sy-veronica/What_i_learned/blob/main/Section_1_%ED%8C%8C%EC%9D%B4%EC%8D%AC_%EA%B0%9C%EA%B4%84.ipynb\" target=\"_parent\"><img src=\"https://colab.research.google.com/assets/colab-badge.svg\" alt=\"Open In Colab\"/></a>"
      ]
    },
    {
      "cell_type": "markdown",
      "source": [
        "# 1-1. 문법 빠르게 훑어보기"
      ],
      "metadata": {
        "id": "KxvqmK4pWpYY"
      }
    },
    {
      "cell_type": "markdown",
      "source": [
        ">### (1) 파이썬의 특징\n",
        "- 직관적\n",
        "- 개발속도가 빠름\n",
        "- 데이터 분석에 적합"
      ],
      "metadata": {
        "id": "jtxIaGrfXVo_"
      }
    },
    {
      "cell_type": "markdown",
      "source": [
        "> ### (2) 문법 빠르게 훑어보기\n",
        "- 숫자를 셀 때 0 부터 시작\n",
        "- 대소문자 구분\n",
        "- 들여쓰기 중요\n",
        "- 라인의 끝이 문장의 끝\n",
        "- 주석처리 #"
      ],
      "metadata": {
        "id": "imJON00kXgC0"
      }
    },
    {
      "cell_type": "markdown",
      "source": [
        "# 1-2. 에러를 만났을 때"
      ],
      "metadata": {
        "id": "5_EHy76sXD5t"
      }
    },
    {
      "cell_type": "markdown",
      "source": [
        ">### (1) 에러의 종류\n",
        "- 문법에러 : 파이썬 문법X\n",
        "- 실행에러 : 문법O / 실행X \n",
        "- 논리에러 : 문법O / 실행O / 원치않는 결과"
      ],
      "metadata": {
        "id": "4LO2FRBPX_SC"
      }
    },
    {
      "cell_type": "markdown",
      "source": [
        ">### (2) 다양한 유형의 에러\n",
        "- NameError\n",
        "- TypeError\n",
        "- ZeroDivisionError\n",
        "- IndexError"
      ],
      "metadata": {
        "id": "1JRoSbelYdIg"
      }
    },
    {
      "cell_type": "markdown",
      "source": [
        "# 1-3. 변수\n"
      ],
      "metadata": {
        "id": "9g0phakTWm-j"
      }
    },
    {
      "cell_type": "markdown",
      "source": [
        ">### (1) 변수 선언\n",
        "```python\n",
        "변수명 = 값\n",
        "```\n",
        "- 변수명\n",
        "- 할당연산자 `=` [우변의 값을 좌변의 변수명에 저장하라]\n",
        "- 값"
      ],
      "metadata": {
        "id": "AhCSFik_YyUQ"
      }
    },
    {
      "cell_type": "markdown",
      "source": [
        ">### (2) 변수명 명명법\n",
        "- 숫자로 시작 불가\n",
        "- 공백, 기호, 마침표 사용 불가\n",
        "- 예약어 사용 불가가"
      ],
      "metadata": {
        "id": "WqwpxtjnZIUW"
      }
    },
    {
      "cell_type": "markdown",
      "source": [
        ">### (3) 변수명 주의사항\n",
        "- 이해할 수 있도록 지을 것\n",
        "- 표기법\n",
        "```\n",
        "(1) camelCase\n",
        "(2) snake_case\n",
        "```\n",
        "- 팀의 컨벤션을 존중"
      ],
      "metadata": {
        "id": "5nSiFOzUZdHb"
      }
    },
    {
      "cell_type": "markdown",
      "source": [
        "# 1-4. 연산자"
      ],
      "metadata": {
        "id": "RmJXFaviWnFU"
      }
    },
    {
      "cell_type": "markdown",
      "source": [
        ">### (1) 산술연산자 Arithmetic Operators\n",
        "```python\n",
        "(1) +  : 더하기\n",
        "(2) -  : 빼기\n",
        "(3) *  : 곱하기\n",
        "(4) /  : 나누기기\n",
        "(5) // : 정수 몫\n",
        "(6) %  : 나머지\n",
        "```"
      ],
      "metadata": {
        "id": "ZECPVC3fZZ-K"
      }
    },
    {
      "cell_type": "markdown",
      "source": [
        ">### (2) 할당/복합할당연산자 Assignment Operators\n",
        "- 할당연산자    `변수명 = 값`\n",
        "- 복합할당연산자\n",
        "```python\n",
        "(1) +=  : (좌변+우변)을 좌변에 할당당\n",
        "(2) -=  : (좌변-우변)을 좌변에 할당\n",
        "(3) *=  : (좌변*우변)을 좌변에 할당\n",
        "(4) **= : (좌변**우변)을 좌변에 할당\n",
        "(5) /=  : (좌변/우변)을 좌변에 할당\n",
        "(6) //= : (좌변/우변)의 몫을 좌변에 할당 \n",
        "(7) %=  : (좌변/우변)의 나머지를 좌변에 할당 \n",
        "```"
      ],
      "metadata": {
        "id": "puQgWnR-aGfW"
      }
    },
    {
      "cell_type": "markdown",
      "source": [
        ">### (3) 비교연산자 Comparison Operators\n",
        "```python\n",
        "(1) == : 같다\n",
        "(2) != : 다르다\n",
        "(3) >  : 크다\n",
        "(4) <  : 작다\n",
        "(5) >= : 크거나 같다\n",
        "(6) <= : 작거나 같다\n",
        "```"
      ],
      "metadata": {
        "id": "PdFRIgCJaGiW"
      }
    },
    {
      "cell_type": "markdown",
      "source": [
        ">### (4) 논리연산자 Logical Operators\n",
        "- and\n",
        "- or\n",
        "- not\n",
        ">> 논리합과 논리곱\n",
        ">>- True and True   : True\n",
        ">>- True and False  : False\n",
        ">>- True or True    : True\n",
        ">>- True or  False  : True"
      ],
      "metadata": {
        "id": "hVr2CLZsaGlJ"
      }
    },
    {
      "cell_type": "markdown",
      "source": [
        ">### (5) 구성원(소속)연산자 Membership Operators\n",
        "- in     : 해당 컬렉션에 속함\n",
        "- not in : 해당 컬렉션에 속하지 않음\n"
      ],
      "metadata": {
        "id": "875kct3daGn9"
      }
    }
  ]
}